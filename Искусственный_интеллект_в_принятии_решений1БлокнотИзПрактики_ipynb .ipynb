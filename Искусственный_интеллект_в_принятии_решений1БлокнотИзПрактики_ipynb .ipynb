{
  "nbformat": 4,
  "nbformat_minor": 0,
  "metadata": {
    "colab": {
      "provenance": [],
      "toc_visible": true
    },
    "kernelspec": {
      "name": "python3",
      "display_name": "Python 3"
    }
  },
  "cells": [
    {
      "cell_type": "markdown",
      "metadata": {
        "id": "vfi8f2DPsV6q"
      },
      "source": [
        "Чтобы запускать и редактировать код, сохраните копию этого ноутбука на свой диск (File->Save a copy in Drive)."
      ]
    },
    {
      "cell_type": "markdown",
      "metadata": {
        "id": "gLXI_gWnm7dm"
      },
      "source": [
        "####Полезные ресурсы\n",
        "\n",
        "*   Keras Datasets\n",
        "    https://keras.io/datasets/#mnist-database-of-handwritten-digits\n",
        "\n",
        "*   Информация о базе данных MNIST\n",
        "    http://yann.lecun.com/exdb/mnist/index.html\n",
        "\n",
        "*   NumPy в Python. Часть 1.\n",
        "    https://habr.com/ru/post/352678/\n",
        "    \n",
        "*   PIL на Python от простого к сложному\n",
        "    https://habr.com/ru/post/451074/\n",
        "*   Шолле Ф.  \"Глубокое обучение на Python\"\n",
        "\n"
      ]
    },
    {
      "cell_type": "markdown",
      "metadata": {
        "id": "-b-dATcqDUcM"
      },
      "source": [
        "####**Справка по RGB**\n",
        "\n",
        "RGB - Red Green Blue - Красный Зеленый Синий\n",
        "\n",
        "255.255.255. - белый\n",
        "\n",
        "0.0.0 - черный\n",
        "\n",
        "255.0.0 - красный\n",
        "\n",
        "0.255.0 - зеленый\n",
        "\n",
        "0.0.255 - синий\n",
        "\n",
        "RGBA\n",
        "\n",
        "A - альфа - прозрачность"
      ]
    },
    {
      "cell_type": "markdown",
      "source": [
        "**Тензор определяется тремя ключевыми атрибутами**\n",
        "\n",
        " **Количество осей (ранг)** — например, трехмерный тензор имеет три оси, а матрица — две. В библиотеках для Python, таких как Numpy, этот атрибут тензоров\n",
        "имеет имя ndim.\n",
        "\n",
        " **Форма** — кортеж целых чисел, описывающих количество измерений на каждой\n",
        "оси тензора. Например, матрица имеет форму (3, 5),\n",
        "а трехмерный тензор имеет форму (3, 3, 5). Вектор имеет форму с единствен\u0002ным элементом, например (5,), тогда как скаляр имеет пустую форму ().\n",
        "\n",
        " **Тип данных** (обычно в библиотеках для Python ему дается имя dtype) — это тип\n",
        "данных, содержащихся в тензоре; например, тензор может иметь тип float32,\n",
        "uint8, float64 и др."
      ],
      "metadata": {
        "id": "_xAJtHecvm2s"
      }
    },
    {
      "cell_type": "markdown",
      "source": [
        "Источник: Ф. Шолле \"Глубокое обучение на Python\", 2.2.5. Ключевые атрибуты, стр. 57"
      ],
      "metadata": {
        "id": "xZVH1QVBvJ-G"
      }
    },
    {
      "cell_type": "markdown",
      "metadata": {
        "id": "HWBMKVo5jtyJ"
      },
      "source": [
        "####Загрузка необходимых ресурсов"
      ]
    },
    {
      "cell_type": "code",
      "metadata": {
        "id": "mWm58rkrjphb"
      },
      "source": [
        "from tensorflow.keras.datasets import mnist # загрузка набора данных MNIST из Keras\n",
        "from tensorflow.keras.preprocessing import image\n",
        "from tensorflow.keras import utils\n",
        "from google.colab import files\n",
        "import numpy as np\n",
        "import matplotlib.pyplot as plt\n",
        "from PIL import Image\n",
        "%matplotlib inline"
      ],
      "execution_count": null,
      "outputs": []
    },
    {
      "cell_type": "markdown",
      "metadata": {
        "id": "goFg3lnjVwaG"
      },
      "source": [
        "####Загрузка датасета mnist из библиотеки Keras\n",
        "Набор данных MNIST входит в состав Keras в форме набора из четырех массивов Numpy"
      ]
    },
    {
      "cell_type": "code",
      "metadata": {
        "id": "LJKPnnsctbAz",
        "colab": {
          "base_uri": "https://localhost:8080/"
        },
        "outputId": "342061fb-492a-4a7d-95a4-3319a62523d3"
      },
      "source": [
        "'''В Keras встроены средства работы с популярными наборами данных\n",
        "x_train_org - изображения из набора данных для обучения\n",
        "y_train_org - правильные ответы (метки) к набору данных для обучения\n",
        "x_test_org - изображения из набора данных для тестирования\n",
        "y_test_org - правильные ответы (метки) к набору данных для тестирования'''\n",
        "(x_train_org, y_train_org), (x_test_org, y_test_org) = mnist.load_data()"
      ],
      "execution_count": null,
      "outputs": [
        {
          "output_type": "stream",
          "name": "stdout",
          "text": [
            "Downloading data from https://storage.googleapis.com/tensorflow/tf-keras-datasets/mnist.npz\n",
            "11490434/11490434 [==============================] - 0s 0us/step\n"
          ]
        }
      ]
    },
    {
      "cell_type": "markdown",
      "metadata": {
        "id": "-RqcN44KrGCs"
      },
      "source": [
        "####Параметры набора данных для обучения"
      ]
    },
    {
      "cell_type": "code",
      "metadata": {
        "id": "9tk_RWWBq4iC",
        "colab": {
          "base_uri": "https://localhost:8080/"
        },
        "outputId": "a168a4a2-52e5-457d-efd1-8b8d43ab04f4"
      },
      "source": [
        "# определим тип объекта\n",
        "type(x_train_org)"
      ],
      "execution_count": null,
      "outputs": [
        {
          "output_type": "execute_result",
          "data": {
            "text/plain": [
              "numpy.ndarray"
            ]
          },
          "metadata": {},
          "execution_count": 3
        }
      ]
    },
    {
      "cell_type": "code",
      "metadata": {
        "id": "swG1I2AQrawm",
        "colab": {
          "base_uri": "https://localhost:8080/"
        },
        "outputId": "0470f454-9849-4663-95c2-0afc15d31b71"
      },
      "source": [
        "# определим тип объекта\n",
        "type(y_train_org)"
      ],
      "execution_count": null,
      "outputs": [
        {
          "output_type": "execute_result",
          "data": {
            "text/plain": [
              "numpy.ndarray"
            ]
          },
          "metadata": {},
          "execution_count": 4
        }
      ]
    },
    {
      "cell_type": "code",
      "metadata": {
        "id": "U3ThsUfMXDOL",
        "colab": {
          "base_uri": "https://localhost:8080/"
        },
        "outputId": "a66075e6-2958-452e-c373-ef080e0fee89"
      },
      "source": [
        "# посмотрим на размер набора данных для обучения\n",
        "x_train_org.shape"
      ],
      "execution_count": null,
      "outputs": [
        {
          "output_type": "execute_result",
          "data": {
            "text/plain": [
              "(60000, 28, 28)"
            ]
          },
          "metadata": {},
          "execution_count": 5
        }
      ]
    },
    {
      "cell_type": "code",
      "metadata": {
        "id": "0GGjdlNaYWq-",
        "colab": {
          "base_uri": "https://localhost:8080/"
        },
        "outputId": "ccb61e5b-f1c2-4e9b-8eab-c22051dd4793"
      },
      "source": [
        "# посмотрим на размер меток к набору данных для обучения\n",
        "y_train_org.shape"
      ],
      "execution_count": null,
      "outputs": [
        {
          "output_type": "execute_result",
          "data": {
            "text/plain": [
              "(60000,)"
            ]
          },
          "metadata": {},
          "execution_count": 6
        }
      ]
    },
    {
      "cell_type": "code",
      "metadata": {
        "id": "fv0D6_vqYpJc",
        "colab": {
          "base_uri": "https://localhost:8080/"
        },
        "outputId": "c2d394a1-d62d-46b7-9c65-06ef98817401"
      },
      "source": [
        "# длина набора данных для обучения\n",
        "len(x_train_org)"
      ],
      "execution_count": null,
      "outputs": [
        {
          "output_type": "execute_result",
          "data": {
            "text/plain": [
              "60000"
            ]
          },
          "metadata": {},
          "execution_count": 7
        }
      ]
    },
    {
      "cell_type": "code",
      "metadata": {
        "id": "LO_ksZUUqdx-",
        "colab": {
          "base_uri": "https://localhost:8080/"
        },
        "outputId": "6c98f925-bdb5-4ca9-ec8e-0112508d6583"
      },
      "source": [
        "# длина набора меток для данных для обучения\n",
        "len(y_train_org)"
      ],
      "execution_count": null,
      "outputs": [
        {
          "output_type": "execute_result",
          "data": {
            "text/plain": [
              "60000"
            ]
          },
          "metadata": {},
          "execution_count": 8
        }
      ]
    },
    {
      "cell_type": "code",
      "metadata": {
        "id": "J2Ikb6-PXWbm",
        "colab": {
          "base_uri": "https://localhost:8080/"
        },
        "outputId": "d5c7596f-2031-4c70-801e-b03bc831c12f"
      },
      "source": [
        "# число осей массива данных для обучения\n",
        "x_train_org.ndim"
      ],
      "execution_count": null,
      "outputs": [
        {
          "output_type": "execute_result",
          "data": {
            "text/plain": [
              "3"
            ]
          },
          "metadata": {},
          "execution_count": 9
        }
      ]
    },
    {
      "cell_type": "code",
      "metadata": {
        "id": "QeCJ-95OrtFW",
        "colab": {
          "base_uri": "https://localhost:8080/"
        },
        "outputId": "90dd56c9-71fe-4f6f-aa34-3f066b0042c5"
      },
      "source": [
        "# число осей массива данных для обучения\n",
        "y_train_org.ndim"
      ],
      "execution_count": null,
      "outputs": [
        {
          "output_type": "execute_result",
          "data": {
            "text/plain": [
              "1"
            ]
          },
          "metadata": {},
          "execution_count": 10
        }
      ]
    },
    {
      "cell_type": "markdown",
      "metadata": {
        "id": "rJGQUXE7Wi9g"
      },
      "source": [
        "####Визуализация данных"
      ]
    },
    {
      "cell_type": "code",
      "metadata": {
        "id": "fN72TMsBuBfS",
        "colab": {
          "base_uri": "https://localhost:8080/"
        },
        "outputId": "d2654d83-222f-4f1f-f2be-030eeb61f1ee"
      },
      "source": [
        "x_train_org"
      ],
      "execution_count": null,
      "outputs": [
        {
          "output_type": "execute_result",
          "data": {
            "text/plain": [
              "array([[[0, 0, 0, ..., 0, 0, 0],\n",
              "        [0, 0, 0, ..., 0, 0, 0],\n",
              "        [0, 0, 0, ..., 0, 0, 0],\n",
              "        ...,\n",
              "        [0, 0, 0, ..., 0, 0, 0],\n",
              "        [0, 0, 0, ..., 0, 0, 0],\n",
              "        [0, 0, 0, ..., 0, 0, 0]],\n",
              "\n",
              "       [[0, 0, 0, ..., 0, 0, 0],\n",
              "        [0, 0, 0, ..., 0, 0, 0],\n",
              "        [0, 0, 0, ..., 0, 0, 0],\n",
              "        ...,\n",
              "        [0, 0, 0, ..., 0, 0, 0],\n",
              "        [0, 0, 0, ..., 0, 0, 0],\n",
              "        [0, 0, 0, ..., 0, 0, 0]],\n",
              "\n",
              "       [[0, 0, 0, ..., 0, 0, 0],\n",
              "        [0, 0, 0, ..., 0, 0, 0],\n",
              "        [0, 0, 0, ..., 0, 0, 0],\n",
              "        ...,\n",
              "        [0, 0, 0, ..., 0, 0, 0],\n",
              "        [0, 0, 0, ..., 0, 0, 0],\n",
              "        [0, 0, 0, ..., 0, 0, 0]],\n",
              "\n",
              "       ...,\n",
              "\n",
              "       [[0, 0, 0, ..., 0, 0, 0],\n",
              "        [0, 0, 0, ..., 0, 0, 0],\n",
              "        [0, 0, 0, ..., 0, 0, 0],\n",
              "        ...,\n",
              "        [0, 0, 0, ..., 0, 0, 0],\n",
              "        [0, 0, 0, ..., 0, 0, 0],\n",
              "        [0, 0, 0, ..., 0, 0, 0]],\n",
              "\n",
              "       [[0, 0, 0, ..., 0, 0, 0],\n",
              "        [0, 0, 0, ..., 0, 0, 0],\n",
              "        [0, 0, 0, ..., 0, 0, 0],\n",
              "        ...,\n",
              "        [0, 0, 0, ..., 0, 0, 0],\n",
              "        [0, 0, 0, ..., 0, 0, 0],\n",
              "        [0, 0, 0, ..., 0, 0, 0]],\n",
              "\n",
              "       [[0, 0, 0, ..., 0, 0, 0],\n",
              "        [0, 0, 0, ..., 0, 0, 0],\n",
              "        [0, 0, 0, ..., 0, 0, 0],\n",
              "        ...,\n",
              "        [0, 0, 0, ..., 0, 0, 0],\n",
              "        [0, 0, 0, ..., 0, 0, 0],\n",
              "        [0, 0, 0, ..., 0, 0, 0]]], dtype=uint8)"
            ]
          },
          "metadata": {},
          "execution_count": 11
        }
      ]
    },
    {
      "cell_type": "code",
      "metadata": {
        "id": "widdLgDEWq8R",
        "colab": {
          "base_uri": "https://localhost:8080/"
        },
        "outputId": "2132c14f-85d8-46f7-c79e-b5196a556d42"
      },
      "source": [
        "# посмотрим на элемент из набора данных для обучения\n",
        "x_train_org[45:46]"
      ],
      "execution_count": null,
      "outputs": [
        {
          "output_type": "execute_result",
          "data": {
            "text/plain": [
              "array([[[  0,   0,   0,   0,   0,   0,   0,   0,   0,   0,   0,   0,\n",
              "           0,   0,   0,   0,   0,   0,   0,   0,   0,   0,   0,   0,\n",
              "           0,   0,   0,   0],\n",
              "        [  0,   0,   0,   0,   0,   0,   0,   0,   0,   0,   0,   0,\n",
              "           0,   0,   0,   0,   0,   0,   0,   0,   0,   0,   0,   0,\n",
              "           0,   0,   0,   0],\n",
              "        [  0,   0,   0,   0,   0,   0,   0,   0,   0,   0,   0,   0,\n",
              "           0,   0,   0,   0,   0,   0,   0,   0,   0,   0,   0,   0,\n",
              "           0,   0,   0,   0],\n",
              "        [  0,   0,   0,   0,   0,   0,   0,   0,   0,   0,   0,   0,\n",
              "           0,   0,   0,   0,   0,   0,   0,   0,   0,   0,   0,   0,\n",
              "           0,   0,   0,   0],\n",
              "        [  0,   0,   0,   0,   0,   0,   0,   0,   0,   0,   0,   0,\n",
              "           0,   0,   0,   0,   0,   0,   0,   0,   0,   0,   0,   0,\n",
              "           0,   0,   0,   0],\n",
              "        [  0,   0,   0,   0,   0,   0,   0,   0,   0,   0,   0,   0,\n",
              "           0,   0,   0,   0,   0,   0,   0,   0,   0,   0,   0,   0,\n",
              "           0,   0,   0,   0],\n",
              "        [  0,   0,   0,   0,   0,   0,   0,   0,   0,   0,   0,   0,\n",
              "           0,   0,   0,   0,   0,   0,   0,   0,   0,   0,   0,   0,\n",
              "           0,   0,   0,   0],\n",
              "        [  0,   0,   0,   0,   0,   0,   0,   0,   0,   0,   0,   0,\n",
              "          11, 185, 255, 253, 253, 230, 132, 132,  31,   0,   0,   0,\n",
              "           0,   0,   0,   0],\n",
              "        [  0,   0,   0,   0,   0,   0,   0,   0,   0,   0,   9,  71,\n",
              "         242, 252, 252, 228, 231, 252, 252, 252, 167,   0,   0,   0,\n",
              "           0,   0,   0,   0],\n",
              "        [  0,   0,   0,   0,   0,   0,   0,   0,   0,  28, 166, 252,\n",
              "         252, 235,  92,   0,  14, 142, 252, 252, 150,   0,   0,   0,\n",
              "           0,   0,   0,   0],\n",
              "        [  0,   0,   0,   0,   0,   0,   0,   0,  12, 204, 252, 234,\n",
              "         152,  44,   0,   0,  48, 225, 252, 180,  16,   0,   0,   0,\n",
              "           0,   0,   0,   0],\n",
              "        [  0,   0,   0,   0,   0,   0,   0,  12, 164, 252, 232,  61,\n",
              "           0,   0,   0,   6, 179, 252, 252,  60,   0,   0,   0,   0,\n",
              "           0,   0,   0,   0],\n",
              "        [  0,   0,   0,   0,   0,   0,   0,  49, 252, 252,  76,   0,\n",
              "           0,   0,  44, 199, 252, 252, 252,  60,   0,   0,   0,   0,\n",
              "           0,   0,   0,   0],\n",
              "        [  0,   0,   0,   0,   0,   0,   0,  89, 252, 228,  32,   0,\n",
              "           0,  99, 231, 244, 220, 252, 203,  12,   0,   0,   0,   0,\n",
              "           0,   0,   0,   0],\n",
              "        [  0,   0,   0,   0,   0,   0,   0, 169, 252, 207,  97,  97,\n",
              "         206, 234, 243,  32, 157, 252, 145,   0,   0,   0,   0,   0,\n",
              "           0,   0,   0,   0],\n",
              "        [  0,   0,   0,   0,   0,   0,   0,  60, 252, 252, 252, 252,\n",
              "         252, 200,  22,  11, 198, 231,  41,   0,   0,   0,   0,   0,\n",
              "           0,   0,   0,   0],\n",
              "        [  0,   0,   0,   0,   0,   0,   0,  26, 131, 224, 252, 252,\n",
              "         142,  11,   0,  82, 252, 204,   0,   0,   0,   0,   0,   0,\n",
              "           0,   0,   0,   0],\n",
              "        [  0,   0,   0,   0,   0,   0,   0,   0,   0,   0,   0,   0,\n",
              "           0,   0,  13, 253, 253, 141,   0,   0,   0,   0,   0,   0,\n",
              "           0,   0,   0,   0],\n",
              "        [  0,   0,   0,   0,   0,   0,   0,   0,   0,   0,   0,   0,\n",
              "           0,   0,  82, 252, 220,  36,   0,   0,   0,   0,   0,   0,\n",
              "           0,   0,   0,   0],\n",
              "        [  0,   0,   0,   0,   0,   0,   0,   0,   0,   0,   0,   0,\n",
              "           0,   0, 208, 252,  96,   0,   0,   0,   0,   0,   0,   0,\n",
              "           0,   0,   0,   0],\n",
              "        [  0,   0,   0,   0,   0,   0,   0,   0,   0,   0,   0,   0,\n",
              "           0,  24, 253, 247,  78,   0,   0,   0,   0,   0,   0,   0,\n",
              "           0,   0,   0,   0],\n",
              "        [  0,   0,   0,   0,   0,   0,   0,   0,   0,   0,   0,   0,\n",
              "           0, 121, 253, 199,   0,   0,   0,   0,   0,   0,   0,   0,\n",
              "           0,   0,   0,   0],\n",
              "        [  0,   0,   0,   0,   0,   0,   0,   0,   0,   0,   0,   0,\n",
              "          32, 216, 244,  26,   0,   0,   0,   0,   0,   0,   0,   0,\n",
              "           0,   0,   0,   0],\n",
              "        [  0,   0,   0,   0,   0,   0,   0,   0,   0,   0,   0,   0,\n",
              "         207, 252, 241,   0,   0,   0,   0,   0,   0,   0,   0,   0,\n",
              "           0,   0,   0,   0],\n",
              "        [  0,   0,   0,   0,   0,   0,   0,   0,   0,   0,  33, 200,\n",
              "         249, 252,  92,   0,   0,   0,   0,   0,   0,   0,   0,   0,\n",
              "           0,   0,   0,   0],\n",
              "        [  0,   0,   0,   0,   0,   0,   0,   0,   0,   0,  85, 252,\n",
              "         252, 142,   0,   0,   0,   0,   0,   0,   0,   0,   0,   0,\n",
              "           0,   0,   0,   0],\n",
              "        [  0,   0,   0,   0,   0,   0,   0,   0,   0,   0,  85, 252,\n",
              "         200,  11,   0,   0,   0,   0,   0,   0,   0,   0,   0,   0,\n",
              "           0,   0,   0,   0],\n",
              "        [  0,   0,   0,   0,   0,   0,   0,   0,   0,   0,   0,   0,\n",
              "           0,   0,   0,   0,   0,   0,   0,   0,   0,   0,   0,   0,\n",
              "           0,   0,   0,   0]]], dtype=uint8)"
            ]
          },
          "metadata": {},
          "execution_count": 12
        }
      ]
    },
    {
      "cell_type": "code",
      "metadata": {
        "id": "H_5MgVJrjViv",
        "colab": {
          "base_uri": "https://localhost:8080/",
          "height": 430
        },
        "outputId": "379e4d5e-8d52-4fdd-e145-6f17e4a697e3"
      },
      "source": [
        "n = 16\n",
        "plt.imshow(Image.fromarray(x_train_org[n]).convert('RGBA'))\n",
        "plt.show()"
      ],
      "execution_count": null,
      "outputs": [
        {
          "output_type": "display_data",
          "data": {
            "text/plain": [
              "<Figure size 640x480 with 1 Axes>"
            ],
            "image/png": "[encoded data removed]"
          },
          "metadata": {}
        }
      ]
    },
    {
      "cell_type": "code",
      "metadata": {
        "id": "fHY05A32r-5s",
        "colab": {
          "base_uri": "https://localhost:8080/"
        },
        "outputId": "6e4bbe65-0bb1-4105-ff55-f064e4e60430"
      },
      "source": [
        "y_train_org[16]"
      ],
      "execution_count": null,
      "outputs": [
        {
          "output_type": "execute_result",
          "data": {
            "text/plain": [
              "2"
            ]
          },
          "metadata": {},
          "execution_count": 67
        }
      ]
    },
    {
      "cell_type": "code",
      "metadata": {
        "id": "x62CklMasI_B",
        "colab": {
          "base_uri": "https://localhost:8080/"
        },
        "outputId": "9ad754db-444b-4f34-fa0a-09e88cbd251e"
      },
      "source": [
        "y_train_org[10:18]"
      ],
      "execution_count": null,
      "outputs": [
        {
          "output_type": "execute_result",
          "data": {
            "text/plain": [
              "array([3, 5, 3, 6, 1, 7, 2, 8], dtype=uint8)"
            ]
          },
          "metadata": {},
          "execution_count": 68
        }
      ]
    },
    {
      "cell_type": "code",
      "metadata": {
        "id": "SpxED-2ot0Uh",
        "colab": {
          "base_uri": "https://localhost:8080/"
        },
        "outputId": "abd7442d-88fa-4ec2-a431-89f9f9789dcb"
      },
      "source": [
        "y_train_org"
      ],
      "execution_count": null,
      "outputs": [
        {
          "output_type": "execute_result",
          "data": {
            "text/plain": [
              "array([5, 0, 4, ..., 5, 6, 8], dtype=uint8)"
            ]
          },
          "metadata": {},
          "execution_count": 69
        }
      ]
    },
    {
      "cell_type": "markdown",
      "metadata": {
        "id": "O0reRcJxslpU"
      },
      "source": [
        "Метки хранятся в массиве Numpy от 0 до 9"
      ]
    },
    {
      "cell_type": "code",
      "metadata": {
        "id": "o8wRzyU2sZ65",
        "colab": {
          "base_uri": "https://localhost:8080/"
        },
        "outputId": "f74bb8a2-60ad-4cd0-c240-1095f80017b4"
      },
      "source": [
        "y_train_org.min()"
      ],
      "execution_count": null,
      "outputs": [
        {
          "output_type": "execute_result",
          "data": {
            "text/plain": [
              "0"
            ]
          },
          "metadata": {},
          "execution_count": 18
        }
      ]
    },
    {
      "cell_type": "code",
      "metadata": {
        "id": "w0nfEC-Esg9S",
        "colab": {
          "base_uri": "https://localhost:8080/"
        },
        "outputId": "839381ac-c700-4f2c-8ec3-46b5649659a6"
      },
      "source": [
        "y_train_org.max()"
      ],
      "execution_count": null,
      "outputs": [
        {
          "output_type": "execute_result",
          "data": {
            "text/plain": [
              "9"
            ]
          },
          "metadata": {},
          "execution_count": 19
        }
      ]
    },
    {
      "cell_type": "markdown",
      "metadata": {
        "id": "ciNkBT1yjcVn"
      },
      "source": [
        "####Предварительная обработка набора данных для обучения. Нормализация данных.\n",
        "Преобразуем набор данных для обучения в массив (60000, 28 * 28)"
      ]
    },
    {
      "cell_type": "code",
      "metadata": {
        "id": "AoxO4P7ftygP"
      },
      "source": [
        "x_train= x_train_org.reshape(60000, 784) # 28 * 28 = 784"
      ],
      "execution_count": null,
      "outputs": []
    },
    {
      "cell_type": "code",
      "metadata": {
        "id": "PlTYZsz7vcuC",
        "colab": {
          "base_uri": "https://localhost:8080/"
        },
        "outputId": "6fe65305-d79f-432a-d8f7-917a7fb9dff0"
      },
      "source": [
        "# посмотрим на форму массива\n",
        "x_train.shape"
      ],
      "execution_count": null,
      "outputs": [
        {
          "output_type": "execute_result",
          "data": {
            "text/plain": [
              "(60000, 784)"
            ]
          },
          "metadata": {},
          "execution_count": 21
        }
      ]
    },
    {
      "cell_type": "code",
      "metadata": {
        "id": "1NUk48MYwIEv",
        "colab": {
          "base_uri": "https://localhost:8080/"
        },
        "outputId": "c87fbfca-1ac7-4749-8164-e73a5694a59c"
      },
      "source": [
        "# посмотрим на количество осей\n",
        "x_train.ndim"
      ],
      "execution_count": null,
      "outputs": [
        {
          "output_type": "execute_result",
          "data": {
            "text/plain": [
              "2"
            ]
          },
          "metadata": {},
          "execution_count": 22
        }
      ]
    },
    {
      "cell_type": "markdown",
      "metadata": {
        "id": "Ij_3KPVoww2o"
      },
      "source": [
        "Преобразуем данные в массив типа float32 со значениями в интервале [0, 1]"
      ]
    },
    {
      "cell_type": "code",
      "metadata": {
        "id": "BllFI9UpBD1S"
      },
      "source": [
        "x_train = x_train.astype('float32')\n",
        "x_train = x_train/255"
      ],
      "execution_count": null,
      "outputs": []
    },
    {
      "cell_type": "code",
      "metadata": {
        "id": "mUEI_x7dBN4u",
        "colab": {
          "base_uri": "https://localhost:8080/"
        },
        "outputId": "92fba8a8-5c69-4d5b-9246-e7c0d6d79618"
      },
      "source": [
        "x_train[1]"
      ],
      "execution_count": null,
      "outputs": [
        {
          "output_type": "execute_result",
          "data": {
            "text/plain": [
              "array([0.        , 0.        , 0.        , 0.        , 0.        ,\n",
              "       0.        , 0.        , 0.        , 0.        , 0.        ,\n",
              "       0.        , 0.        , 0.        , 0.        , 0.        ,\n",
              "       0.        , 0.        , 0.        , 0.        , 0.        ,\n",
              "       0.        , 0.        , 0.        , 0.        , 0.        ,\n",
              "       0.        , 0.        , 0.        , 0.        , 0.        ,\n",
              "       0.        , 0.        , 0.        , 0.        , 0.        ,\n",
              "       0.        , 0.        , 0.        , 0.        , 0.        ,\n",
              "       0.        , 0.        , 0.        , 0.        , 0.        ,\n",
              "       0.        , 0.        , 0.        , 0.        , 0.        ,\n",
              "       0.        , 0.        , 0.        , 0.        , 0.        ,\n",
              "       0.        , 0.        , 0.        , 0.        , 0.        ,\n",
              "       0.        , 0.        , 0.        , 0.        , 0.        ,\n",
              "       0.        , 0.        , 0.        , 0.        , 0.        ,\n",
              "       0.        , 0.        , 0.        , 0.        , 0.        ,\n",
              "       0.        , 0.        , 0.        , 0.        , 0.        ,\n",
              "       0.        , 0.        , 0.        , 0.        , 0.        ,\n",
              "       0.        , 0.        , 0.        , 0.        , 0.        ,\n",
              "       0.        , 0.        , 0.        , 0.        , 0.        ,\n",
              "       0.        , 0.        , 0.        , 0.        , 0.        ,\n",
              "       0.        , 0.        , 0.        , 0.        , 0.        ,\n",
              "       0.        , 0.        , 0.        , 0.        , 0.        ,\n",
              "       0.        , 0.        , 0.        , 0.        , 0.        ,\n",
              "       0.        , 0.        , 0.        , 0.        , 0.        ,\n",
              "       0.        , 0.        , 0.        , 0.        , 0.        ,\n",
              "       0.        , 0.        , 0.2       , 0.62352943, 0.99215686,\n",
              "       0.62352943, 0.19607843, 0.        , 0.        , 0.        ,\n",
              "       0.        , 0.        , 0.        , 0.        , 0.        ,\n",
              "       0.        , 0.        , 0.        , 0.        , 0.        ,\n",
              "       0.        , 0.        , 0.        , 0.        , 0.        ,\n",
              "       0.        , 0.        , 0.        , 0.        , 0.1882353 ,\n",
              "       0.93333334, 0.9882353 , 0.9882353 , 0.9882353 , 0.92941177,\n",
              "       0.        , 0.        , 0.        , 0.        , 0.        ,\n",
              "       0.        , 0.        , 0.        , 0.        , 0.        ,\n",
              "       0.        , 0.        , 0.        , 0.        , 0.        ,\n",
              "       0.        , 0.        , 0.        , 0.        , 0.        ,\n",
              "       0.        , 0.21176471, 0.8901961 , 0.99215686, 0.9882353 ,\n",
              "       0.9372549 , 0.9137255 , 0.9882353 , 0.22352941, 0.02352941,\n",
              "       0.        , 0.        , 0.        , 0.        , 0.        ,\n",
              "       0.        , 0.        , 0.        , 0.        , 0.        ,\n",
              "       0.        , 0.        , 0.        , 0.        , 0.        ,\n",
              "       0.        , 0.        , 0.03921569, 0.23529412, 0.8784314 ,\n",
              "       0.9882353 , 0.99215686, 0.9882353 , 0.7921569 , 0.32941177,\n",
              "       0.9882353 , 0.99215686, 0.47843137, 0.        , 0.        ,\n",
              "       0.        , 0.        , 0.        , 0.        , 0.        ,\n",
              "       0.        , 0.        , 0.        , 0.        , 0.        ,\n",
              "       0.        , 0.        , 0.        , 0.        , 0.        ,\n",
              "       0.6392157 , 0.9882353 , 0.9882353 , 0.9882353 , 0.99215686,\n",
              "       0.9882353 , 0.9882353 , 0.3764706 , 0.7411765 , 0.99215686,\n",
              "       0.654902  , 0.        , 0.        , 0.        , 0.        ,\n",
              "       0.        , 0.        , 0.        , 0.        , 0.        ,\n",
              "       0.        , 0.        , 0.        , 0.        , 0.        ,\n",
              "       0.        , 0.        , 0.2       , 0.93333334, 0.99215686,\n",
              "       0.99215686, 0.74509805, 0.44705883, 0.99215686, 0.89411765,\n",
              "       0.18431373, 0.30980393, 1.        , 0.65882355, 0.        ,\n",
              "       0.        , 0.        , 0.        , 0.        , 0.        ,\n",
              "       0.        , 0.        , 0.        , 0.        , 0.        ,\n",
              "       0.        , 0.        , 0.        , 0.        , 0.1882353 ,\n",
              "       0.93333334, 0.9882353 , 0.9882353 , 0.7019608 , 0.04705882,\n",
              "       0.29411766, 0.4745098 , 0.08235294, 0.        , 0.        ,\n",
              "       0.99215686, 0.9529412 , 0.19607843, 0.        , 0.        ,\n",
              "       0.        , 0.        , 0.        , 0.        , 0.        ,\n",
              "       0.        , 0.        , 0.        , 0.        , 0.        ,\n",
              "       0.        , 0.14901961, 0.64705884, 0.99215686, 0.9137255 ,\n",
              "       0.8156863 , 0.32941177, 0.        , 0.        , 0.        ,\n",
              "       0.        , 0.        , 0.        , 0.99215686, 0.9882353 ,\n",
              "       0.64705884, 0.        , 0.        , 0.        , 0.        ,\n",
              "       0.        , 0.        , 0.        , 0.        , 0.        ,\n",
              "       0.        , 0.        , 0.        , 0.02745098, 0.69803923,\n",
              "       0.9882353 , 0.9411765 , 0.2784314 , 0.07450981, 0.10980392,\n",
              "       0.        , 0.        , 0.        , 0.        , 0.        ,\n",
              "       0.        , 0.99215686, 0.9882353 , 0.7647059 , 0.        ,\n",
              "       0.        , 0.        , 0.        , 0.        , 0.        ,\n",
              "       0.        , 0.        , 0.        , 0.        , 0.        ,\n",
              "       0.        , 0.22352941, 0.9882353 , 0.9882353 , 0.24705882,\n",
              "       0.        , 0.        , 0.        , 0.        , 0.        ,\n",
              "       0.        , 0.        , 0.        , 0.        , 0.99215686,\n",
              "       0.9882353 , 0.7647059 , 0.        , 0.        , 0.        ,\n",
              "       0.        , 0.        , 0.        , 0.        , 0.        ,\n",
              "       0.        , 0.        , 0.        , 0.        , 0.7764706 ,\n",
              "       0.99215686, 0.74509805, 0.        , 0.        , 0.        ,\n",
              "       0.        , 0.        , 0.        , 0.        , 0.        ,\n",
              "       0.        , 0.        , 1.        , 0.99215686, 0.76862746,\n",
              "       0.        , 0.        , 0.        , 0.        , 0.        ,\n",
              "       0.        , 0.        , 0.        , 0.        , 0.        ,\n",
              "       0.        , 0.29803923, 0.9647059 , 0.9882353 , 0.4392157 ,\n",
              "       0.        , 0.        , 0.        , 0.        , 0.        ,\n",
              "       0.        , 0.        , 0.        , 0.        , 0.        ,\n",
              "       0.99215686, 0.9882353 , 0.5803922 , 0.        , 0.        ,\n",
              "       0.        , 0.        , 0.        , 0.        , 0.        ,\n",
              "       0.        , 0.        , 0.        , 0.        , 0.33333334,\n",
              "       0.9882353 , 0.9019608 , 0.09803922, 0.        , 0.        ,\n",
              "       0.        , 0.        , 0.        , 0.        , 0.        ,\n",
              "       0.        , 0.02745098, 0.5294118 , 0.99215686, 0.7294118 ,\n",
              "       0.04705882, 0.        , 0.        , 0.        , 0.        ,\n",
              "       0.        , 0.        , 0.        , 0.        , 0.        ,\n",
              "       0.        , 0.        , 0.33333334, 0.9882353 , 0.8745098 ,\n",
              "       0.        , 0.        , 0.        , 0.        , 0.        ,\n",
              "       0.        , 0.        , 0.        , 0.02745098, 0.5137255 ,\n",
              "       0.9882353 , 0.88235295, 0.2784314 , 0.        , 0.        ,\n",
              "       0.        , 0.        , 0.        , 0.        , 0.        ,\n",
              "       0.        , 0.        , 0.        , 0.        , 0.        ,\n",
              "       0.33333334, 0.9882353 , 0.5686275 , 0.        , 0.        ,\n",
              "       0.        , 0.        , 0.        , 0.        , 0.        ,\n",
              "       0.1882353 , 0.64705884, 0.9882353 , 0.6784314 , 0.        ,\n",
              "       0.        , 0.        , 0.        , 0.        , 0.        ,\n",
              "       0.        , 0.        , 0.        , 0.        , 0.        ,\n",
              "       0.        , 0.        , 0.        , 0.3372549 , 0.99215686,\n",
              "       0.88235295, 0.        , 0.        , 0.        , 0.        ,\n",
              "       0.        , 0.        , 0.44705883, 0.93333334, 0.99215686,\n",
              "       0.63529414, 0.        , 0.        , 0.        , 0.        ,\n",
              "       0.        , 0.        , 0.        , 0.        , 0.        ,\n",
              "       0.        , 0.        , 0.        , 0.        , 0.        ,\n",
              "       0.        , 0.33333334, 0.9882353 , 0.9764706 , 0.57254905,\n",
              "       0.1882353 , 0.11372549, 0.33333334, 0.69803923, 0.88235295,\n",
              "       0.99215686, 0.8745098 , 0.654902  , 0.21960784, 0.        ,\n",
              "       0.        , 0.        , 0.        , 0.        , 0.        ,\n",
              "       0.        , 0.        , 0.        , 0.        , 0.        ,\n",
              "       0.        , 0.        , 0.        , 0.        , 0.33333334,\n",
              "       0.9882353 , 0.9882353 , 0.9882353 , 0.8980392 , 0.84313726,\n",
              "       0.9882353 , 0.9882353 , 0.9882353 , 0.76862746, 0.50980395,\n",
              "       0.        , 0.        , 0.        , 0.        , 0.        ,\n",
              "       0.        , 0.        , 0.        , 0.        , 0.        ,\n",
              "       0.        , 0.        , 0.        , 0.        , 0.        ,\n",
              "       0.        , 0.        , 0.10980392, 0.78039217, 0.9882353 ,\n",
              "       0.9882353 , 0.99215686, 0.9882353 , 0.9882353 , 0.9137255 ,\n",
              "       0.5686275 , 0.        , 0.        , 0.        , 0.        ,\n",
              "       0.        , 0.        , 0.        , 0.        , 0.        ,\n",
              "       0.        , 0.        , 0.        , 0.        , 0.        ,\n",
              "       0.        , 0.        , 0.        , 0.        , 0.        ,\n",
              "       0.        , 0.09803922, 0.5019608 , 0.9882353 , 0.99215686,\n",
              "       0.9882353 , 0.5529412 , 0.14509805, 0.        , 0.        ,\n",
              "       0.        , 0.        , 0.        , 0.        , 0.        ,\n",
              "       0.        , 0.        , 0.        , 0.        , 0.        ,\n",
              "       0.        , 0.        , 0.        , 0.        , 0.        ,\n",
              "       0.        , 0.        , 0.        , 0.        , 0.        ,\n",
              "       0.        , 0.        , 0.        , 0.        , 0.        ,\n",
              "       0.        , 0.        , 0.        , 0.        , 0.        ,\n",
              "       0.        , 0.        , 0.        , 0.        , 0.        ,\n",
              "       0.        , 0.        , 0.        , 0.        , 0.        ,\n",
              "       0.        , 0.        , 0.        , 0.        , 0.        ,\n",
              "       0.        , 0.        , 0.        , 0.        , 0.        ,\n",
              "       0.        , 0.        , 0.        , 0.        , 0.        ,\n",
              "       0.        , 0.        , 0.        , 0.        , 0.        ,\n",
              "       0.        , 0.        , 0.        , 0.        , 0.        ,\n",
              "       0.        , 0.        , 0.        , 0.        , 0.        ,\n",
              "       0.        , 0.        , 0.        , 0.        , 0.        ,\n",
              "       0.        , 0.        , 0.        , 0.        , 0.        ,\n",
              "       0.        , 0.        , 0.        , 0.        , 0.        ,\n",
              "       0.        , 0.        , 0.        , 0.        , 0.        ,\n",
              "       0.        , 0.        , 0.        , 0.        , 0.        ,\n",
              "       0.        , 0.        , 0.        , 0.        , 0.        ,\n",
              "       0.        , 0.        , 0.        , 0.        , 0.        ,\n",
              "       0.        , 0.        , 0.        , 0.        , 0.        ,\n",
              "       0.        , 0.        , 0.        , 0.        , 0.        ,\n",
              "       0.        , 0.        , 0.        , 0.        , 0.        ,\n",
              "       0.        , 0.        , 0.        , 0.        ], dtype=float32)"
            ]
          },
          "metadata": {},
          "execution_count": 24
        }
      ]
    },
    {
      "cell_type": "markdown",
      "metadata": {
        "id": "4KK-_JJM2r1e"
      },
      "source": [
        "####Преобразуем метки в формат one hot encoding"
      ]
    },
    {
      "cell_type": "code",
      "metadata": {
        "id": "z6RrvK8a23oy"
      },
      "source": [
        "y_train = utils.to_categorical(y_train_org, 10)"
      ],
      "execution_count": null,
      "outputs": []
    },
    {
      "cell_type": "code",
      "metadata": {
        "id": "q6fTFVtW3j51",
        "colab": {
          "base_uri": "https://localhost:8080/"
        },
        "outputId": "5114090a-5b30-437b-ca8c-857d9d1b3499"
      },
      "source": [
        "y_train"
      ],
      "execution_count": null,
      "outputs": [
        {
          "output_type": "execute_result",
          "data": {
            "text/plain": [
              "array([[0., 0., 0., ..., 0., 0., 0.],\n",
              "       [1., 0., 0., ..., 0., 0., 0.],\n",
              "       [0., 0., 0., ..., 0., 0., 0.],\n",
              "       ...,\n",
              "       [0., 0., 0., ..., 0., 0., 0.],\n",
              "       [0., 0., 0., ..., 0., 0., 0.],\n",
              "       [0., 0., 0., ..., 0., 1., 0.]], dtype=float32)"
            ]
          },
          "metadata": {},
          "execution_count": 26
        }
      ]
    },
    {
      "cell_type": "code",
      "metadata": {
        "id": "dy_8Slze3nfE",
        "colab": {
          "base_uri": "https://localhost:8080/"
        },
        "outputId": "c7740687-57aa-4fd6-e5f3-11398886d1d6"
      },
      "source": [
        "y_train[16]"
      ],
      "execution_count": null,
      "outputs": [
        {
          "output_type": "execute_result",
          "data": {
            "text/plain": [
              "array([0., 0., 1., 0., 0., 0., 0., 0., 0., 0.], dtype=float32)"
            ]
          },
          "metadata": {},
          "execution_count": 70
        }
      ]
    },
    {
      "cell_type": "markdown",
      "metadata": {
        "id": "oQSBqdVi34Ee"
      },
      "source": [
        "####Загружаем свою картинку"
      ]
    },
    {
      "cell_type": "code",
      "metadata": {
        "id": "KqccCZqNwDWb",
        "colab": {
          "base_uri": "https://localhost:8080/",
          "height": 73
        },
        "outputId": "aa1b5dad-fabc-45d0-8f2d-c6289e6a1d5e"
      },
      "source": [
        "uploaded = files.upload()"
      ],
      "execution_count": null,
      "outputs": [
        {
          "output_type": "display_data",
          "data": {
            "text/plain": [
              "<IPython.core.display.HTML object>"
            ],
            "text/html": [
              "\n",
              "     <input type=\"file\" id=\"files-3db7f25d-4720-4b8f-826c-ca225c976ec4\" name=\"files[]\" multiple disabled\n",
              "        style=\"border:none\" />\n",
              "     <output id=\"result-3db7f25d-4720-4b8f-826c-ca225c976ec4\">\n",
              "      Upload widget is only available when the cell has been executed in the\n",
              "      current browser session. Please rerun this cell to enable.\n",
              "      </output>\n",
              "      <script>// Copyright 2017 Google LLC\n",
              "//\n",
              "// Licensed under the Apache License, Version 2.0 (the \"License\");\n",
              "// you may not use this file except in compliance with the License.\n",
              "// You may obtain a copy of the License at\n",
              "//\n",
              "//      http://www.apache.org/licenses/LICENSE-2.0\n",
              "//\n",
              "// Unless required by applicable law or agreed to in writing, software\n",
              "// distributed under the License is distributed on an \"AS IS\" BASIS,\n",
              "// WITHOUT WARRANTIES OR CONDITIONS OF ANY KIND, either express or implied.\n",
              "// See the License for the specific language governing permissions and\n",
              "// limitations under the License.\n",
              "\n",
              "/**\n",
              " * @fileoverview Helpers for google.colab Python module.\n",
              " */\n",
              "(function(scope) {\n",
              "function span(text, styleAttributes = {}) {\n",
              "  const element = document.createElement('span');\n",
              "  element.textContent = text;\n",
              "  for (const key of Object.keys(styleAttributes)) {\n",
              "    element.style[key] = styleAttributes[key];\n",
              "  }\n",
              "  return element;\n",
              "}\n",
              "\n",
              "// Max number of bytes which will be uploaded at a time.\n",
              "const MAX_PAYLOAD_SIZE = 100 * 1024;\n",
              "\n",
              "function _uploadFiles(inputId, outputId) {\n",
              "  const steps = uploadFilesStep(inputId, outputId);\n",
              "  const outputElement = document.getElementById(outputId);\n",
              "  // Cache steps on the outputElement to make it available for the next call\n",
              "  // to uploadFilesContinue from Python.\n",
              "  outputElement.steps = steps;\n",
              "\n",
              "  return _uploadFilesContinue(outputId);\n",
              "}\n",
              "\n",
              "// This is roughly an async generator (not supported in the browser yet),\n",
              "// where there are multiple asynchronous steps and the Python side is going\n",
              "// to poll for completion of each step.\n",
              "// This uses a Promise to block the python side on completion of each step,\n",
              "// then passes the result of the previous step as the input to the next step.\n",
              "function _uploadFilesContinue(outputId) {\n",
              "  const outputElement = document.getElementById(outputId);\n",
              "  const steps = outputElement.steps;\n",
              "\n",
              "  const next = steps.next(outputElement.lastPromiseValue);\n",
              "  return Promise.resolve(next.value.promise).then((value) => {\n",
              "    // Cache the last promise value to make it available to the next\n",
              "    // step of the generator.\n",
              "    outputElement.lastPromiseValue = value;\n",
              "    return next.value.response;\n",
              "  });\n",
              "}\n",
              "\n",
              "/**\n",
              " * Generator function which is called between each async step of the upload\n",
              " * process.\n",
              " * @param {string} inputId Element ID of the input file picker element.\n",
              " * @param {string} outputId Element ID of the output display.\n",
              " * @return {!Iterable<!Object>} Iterable of next steps.\n",
              " */\n",
              "function* uploadFilesStep(inputId, outputId) {\n",
              "  const inputElement = document.getElementById(inputId);\n",
              "  inputElement.disabled = false;\n",
              "\n",
              "  const outputElement = document.getElementById(outputId);\n",
              "  outputElement.innerHTML = '';\n",
              "\n",
              "  const pickedPromise = new Promise((resolve) => {\n",
              "    inputElement.addEventListener('change', (e) => {\n",
              "      resolve(e.target.files);\n",
              "    });\n",
              "  });\n",
              "\n",
              "  const cancel = document.createElement('button');\n",
              "  inputElement.parentElement.appendChild(cancel);\n",
              "  cancel.textContent = 'Cancel upload';\n",
              "  const cancelPromise = new Promise((resolve) => {\n",
              "    cancel.onclick = () => {\n",
              "      resolve(null);\n",
              "    };\n",
              "  });\n",
              "\n",
              "  // Wait for the user to pick the files.\n",
              "  const files = yield {\n",
              "    promise: Promise.race([pickedPromise, cancelPromise]),\n",
              "    response: {\n",
              "      action: 'starting',\n",
              "    }\n",
              "  };\n",
              "\n",
              "  cancel.remove();\n",
              "\n",
              "  // Disable the input element since further picks are not allowed.\n",
              "  inputElement.disabled = true;\n",
              "\n",
              "  if (!files) {\n",
              "    return {\n",
              "      response: {\n",
              "        action: 'complete',\n",
              "      }\n",
              "    };\n",
              "  }\n",
              "\n",
              "  for (const file of files) {\n",
              "    const li = document.createElement('li');\n",
              "    li.append(span(file.name, {fontWeight: 'bold'}));\n",
              "    li.append(span(\n",
              "        `(${file.type || 'n/a'}) - ${file.size} bytes, ` +\n",
              "        `last modified: ${\n",
              "            file.lastModifiedDate ? file.lastModifiedDate.toLocaleDateString() :\n",
              "                                    'n/a'} - `));\n",
              "    const percent = span('0% done');\n",
              "    li.appendChild(percent);\n",
              "\n",
              "    outputElement.appendChild(li);\n",
              "\n",
              "    const fileDataPromise = new Promise((resolve) => {\n",
              "      const reader = new FileReader();\n",
              "      reader.onload = (e) => {\n",
              "        resolve(e.target.result);\n",
              "      };\n",
              "      reader.readAsArrayBuffer(file);\n",
              "    });\n",
              "    // Wait for the data to be ready.\n",
              "    let fileData = yield {\n",
              "      promise: fileDataPromise,\n",
              "      response: {\n",
              "        action: 'continue',\n",
              "      }\n",
              "    };\n",
              "\n",
              "    // Use a chunked sending to avoid message size limits. See b/62115660.\n",
              "    let position = 0;\n",
              "    do {\n",
              "      const length = Math.min(fileData.byteLength - position, MAX_PAYLOAD_SIZE);\n",
              "      const chunk = new Uint8Array(fileData, position, length);\n",
              "      position += length;\n",
              "\n",
              "      const base64 = btoa(String.fromCharCode.apply(null, chunk));\n",
              "      yield {\n",
              "        response: {\n",
              "          action: 'append',\n",
              "          file: file.name,\n",
              "          data: base64,\n",
              "        },\n",
              "      };\n",
              "\n",
              "      let percentDone = fileData.byteLength === 0 ?\n",
              "          100 :\n",
              "          Math.round((position / fileData.byteLength) * 100);\n",
              "      percent.textContent = `${percentDone}% done`;\n",
              "\n",
              "    } while (position < fileData.byteLength);\n",
              "  }\n",
              "\n",
              "  // All done.\n",
              "  yield {\n",
              "    response: {\n",
              "      action: 'complete',\n",
              "    }\n",
              "  };\n",
              "}\n",
              "\n",
              "scope.google = scope.google || {};\n",
              "scope.google.colab = scope.google.colab || {};\n",
              "scope.google.colab._files = {\n",
              "  _uploadFiles,\n",
              "  _uploadFilesContinue,\n",
              "};\n",
              "})(self);\n",
              "</script> "
            ]
          },
          "metadata": {}
        },
        {
          "output_type": "stream",
          "name": "stdout",
          "text": [
            "Saving 4.jpg to 4.jpg\n"
          ]
        }
      ]
    },
    {
      "cell_type": "code",
      "metadata": {
        "id": "vxsbXSHuwNAe",
        "colab": {
          "base_uri": "https://localhost:8080/"
        },
        "outputId": "89d9b4cd-689e-482b-aa1a-55f889f98ffd"
      },
      "source": [
        "# проверяем загрузку картинки\n",
        "!ls"
      ],
      "execution_count": null,
      "outputs": [
        {
          "output_type": "stream",
          "name": "stdout",
          "text": [
            "4.jpg  sample_data\n"
          ]
        }
      ]
    },
    {
      "cell_type": "code",
      "metadata": {
        "id": "w0L1bysn6E_q",
        "colab": {
          "base_uri": "https://localhost:8080/"
        },
        "outputId": "107eddc6-d3ce-40f6-fe4d-3b108af61eb6"
      },
      "source": [
        "# посмотрим на исходный размер изображения\n",
        "image_initial = Image.open(\"4.jpg\")\n",
        "(width, height) = image_initial.size\n",
        "image_initial.size"
      ],
      "execution_count": null,
      "outputs": [
        {
          "output_type": "execute_result",
          "data": {
            "text/plain": [
              "(1250, 1250)"
            ]
          },
          "metadata": {},
          "execution_count": 32
        }
      ]
    },
    {
      "cell_type": "code",
      "source": [
        "plt.imshow(image_initial)"
      ],
      "metadata": {
        "colab": {
          "base_uri": "https://localhost:8080/",
          "height": 452
        },
        "id": "er4gbE58zXSh",
        "outputId": "8059c8f8-db9f-4375-8200-c0f9deb38d8a"
      },
      "execution_count": null,
      "outputs": [
        {
          "output_type": "execute_result",
          "data": {
            "text/plain": [
              "<matplotlib.image.AxesImage at 0x7d9106dd9930>"
            ]
          },
          "metadata": {},
          "execution_count": 33
        },
        {
          "output_type": "display_data",
          "data": {
            "text/plain": [
              "<Figure size 640x480 with 1 Axes>"
            ],
            "image/png": "[encoded data removed]"
          },
          "metadata": {}
        }
      ]
    },
    {
      "cell_type": "code",
      "metadata": {
        "id": "Dy6Vsc9D4rj9",
        "colab": {
          "base_uri": "https://localhost:8080/",
          "height": 121
        },
        "outputId": "3c761a99-be85-43ef-dd51-8069e9f5bb18"
      },
      "source": [
        "# определим тип исходного изображения\n",
        "type(image_initial)"
      ],
      "execution_count": null,
      "outputs": [
        {
          "output_type": "execute_result",
          "data": {
            "text/plain": [
              "PIL.JpegImagePlugin.JpegImageFile"
            ],
            "text/html": [
              "<div style=\"max-width:800px; border: 1px solid var(--colab-border-color);\"><style>\n",
              "      pre.function-repr-contents {\n",
              "        overflow-x: auto;\n",
              "        padding: 8px 12px;\n",
              "        max-height: 500px;\n",
              "      }\n",
              "\n",
              "      pre.function-repr-contents.function-repr-contents-collapsed {\n",
              "        cursor: pointer;\n",
              "        max-height: 100px;\n",
              "      }\n",
              "    </style>\n",
              "    <pre style=\"white-space: initial; background:\n",
              "         var(--colab-secondary-surface-color); padding: 8px 12px;\n",
              "         border-bottom: 1px solid var(--colab-border-color);\"><b>PIL.JpegImagePlugin.JpegImageFile</b><br/>def __init__(fp=None, filename=None)</pre><pre class=\"function-repr-contents function-repr-contents-collapsed\" style=\"\"><a class=\"filepath\" style=\"display:none\" href=\"#\">/usr/local/lib/python3.10/dist-packages/PIL/JpegImagePlugin.py</a>Base class for image file format handlers.</pre>\n",
              "      <script>\n",
              "      if (google.colab.kernel.accessAllowed && google.colab.files && google.colab.files.view) {\n",
              "        for (const element of document.querySelectorAll('.filepath')) {\n",
              "          element.style.display = 'block'\n",
              "          element.onclick = (event) => {\n",
              "            event.preventDefault();\n",
              "            event.stopPropagation();\n",
              "            google.colab.files.view(element.textContent, 346);\n",
              "          };\n",
              "        }\n",
              "      }\n",
              "      for (const element of document.querySelectorAll('.function-repr-contents')) {\n",
              "        element.onclick = (event) => {\n",
              "          event.preventDefault();\n",
              "          event.stopPropagation();\n",
              "          element.classList.toggle('function-repr-contents-collapsed');\n",
              "        };\n",
              "      }\n",
              "      </script>\n",
              "      </div>"
            ]
          },
          "metadata": {},
          "execution_count": 34
        }
      ]
    },
    {
      "cell_type": "code",
      "metadata": {
        "id": "BMAcdaKawT3P"
      },
      "source": [
        "# преобразуем формат изображения в 28х28\n",
        "img_path = '4.jpg'\n",
        "img = image.load_img(img_path, target_size=(28, 28), color_mode = \"grayscale\")"
      ],
      "execution_count": null,
      "outputs": []
    },
    {
      "cell_type": "code",
      "metadata": {
        "id": "xLMvqmhuwYgc",
        "colab": {
          "base_uri": "https://localhost:8080/",
          "height": 430
        },
        "outputId": "f1c7ce4c-32d2-4c99-d9d3-90323f218693"
      },
      "source": [
        "plt.imshow(img.convert('RGBA'))\n",
        "plt.show()"
      ],
      "execution_count": null,
      "outputs": [
        {
          "output_type": "display_data",
          "data": {
            "text/plain": [
              "<Figure size 640x480 with 1 Axes>"
            ],
            "image/png": "[encoded data removed]"
          },
          "metadata": {}
        }
      ]
    },
    {
      "cell_type": "code",
      "metadata": {
        "id": "G94PpZlS5Fg7",
        "colab": {
          "base_uri": "https://localhost:8080/",
          "height": 187
        },
        "outputId": "f27f574c-fd2c-44e7-c915-136f1ea6f0ca"
      },
      "source": [
        "# определим тип изображения\n",
        "type(img)"
      ],
      "execution_count": null,
      "outputs": [
        {
          "output_type": "execute_result",
          "data": {
            "text/plain": [
              "PIL.Image.Image"
            ],
            "text/html": [
              "<div style=\"max-width:800px; border: 1px solid var(--colab-border-color);\"><style>\n",
              "      pre.function-repr-contents {\n",
              "        overflow-x: auto;\n",
              "        padding: 8px 12px;\n",
              "        max-height: 500px;\n",
              "      }\n",
              "\n",
              "      pre.function-repr-contents.function-repr-contents-collapsed {\n",
              "        cursor: pointer;\n",
              "        max-height: 100px;\n",
              "      }\n",
              "    </style>\n",
              "    <pre style=\"white-space: initial; background:\n",
              "         var(--colab-secondary-surface-color); padding: 8px 12px;\n",
              "         border-bottom: 1px solid var(--colab-border-color);\"><b>PIL.Image.Image</b><br/>def __init__()</pre><pre class=\"function-repr-contents function-repr-contents-collapsed\" style=\"\"><a class=\"filepath\" style=\"display:none\" href=\"#\">/usr/local/lib/python3.10/dist-packages/PIL/Image.py</a>This class represents an image object.  To create\n",
              ":py:class:`~PIL.Image.Image` objects, use the appropriate factory\n",
              "functions.  There&#x27;s hardly ever any reason to call the Image constructor\n",
              "directly.\n",
              "\n",
              "* :py:func:`~PIL.Image.open`\n",
              "* :py:func:`~PIL.Image.new`\n",
              "* :py:func:`~PIL.Image.frombytes`</pre>\n",
              "      <script>\n",
              "      if (google.colab.kernel.accessAllowed && google.colab.files && google.colab.files.view) {\n",
              "        for (const element of document.querySelectorAll('.filepath')) {\n",
              "          element.style.display = 'block'\n",
              "          element.onclick = (event) => {\n",
              "            event.preventDefault();\n",
              "            event.stopPropagation();\n",
              "            google.colab.files.view(element.textContent, 496);\n",
              "          };\n",
              "        }\n",
              "      }\n",
              "      for (const element of document.querySelectorAll('.function-repr-contents')) {\n",
              "        element.onclick = (event) => {\n",
              "          event.preventDefault();\n",
              "          event.stopPropagation();\n",
              "          element.classList.toggle('function-repr-contents-collapsed');\n",
              "        };\n",
              "      }\n",
              "      </script>\n",
              "      </div>"
            ]
          },
          "metadata": {},
          "execution_count": 37
        }
      ]
    },
    {
      "cell_type": "code",
      "metadata": {
        "id": "FRR4SXPmwef4"
      },
      "source": [
        "# преобразуем картинку в массив\n",
        "x=image.img_to_array(img)"
      ],
      "execution_count": null,
      "outputs": []
    },
    {
      "cell_type": "code",
      "metadata": {
        "id": "siYauruh44Kx",
        "colab": {
          "base_uri": "https://localhost:8080/"
        },
        "outputId": "b93a4084-4aa9-4dc6-a9ef-98793ba78b0b"
      },
      "source": [
        "# посмотрим на форму массива\n",
        "x.shape"
      ],
      "execution_count": null,
      "outputs": [
        {
          "output_type": "execute_result",
          "data": {
            "text/plain": [
              "(28, 28, 1)"
            ]
          },
          "metadata": {},
          "execution_count": 39
        }
      ]
    },
    {
      "cell_type": "code",
      "metadata": {
        "id": "9SyTD1tm5QLv",
        "colab": {
          "base_uri": "https://localhost:8080/"
        },
        "outputId": "246001e4-162e-474e-b727-cb528dc38dad"
      },
      "source": [
        "# определим тип изображения после преобразования\n",
        "type(x)"
      ],
      "execution_count": null,
      "outputs": [
        {
          "output_type": "execute_result",
          "data": {
            "text/plain": [
              "numpy.ndarray"
            ]
          },
          "metadata": {},
          "execution_count": 40
        }
      ]
    },
    {
      "cell_type": "code",
      "metadata": {
        "id": "XgsIZtMI7Ttv",
        "colab": {
          "base_uri": "https://localhost:8080/"
        },
        "outputId": "2eee7170-1ccf-49ad-9743-694f7e9a9a7d"
      },
      "source": [
        "# определим тип переменных, хранящихся в массиве\n",
        "x.dtype"
      ],
      "execution_count": null,
      "outputs": [
        {
          "output_type": "execute_result",
          "data": {
            "text/plain": [
              "dtype('float32')"
            ]
          },
          "metadata": {},
          "execution_count": 41
        }
      ]
    },
    {
      "cell_type": "code",
      "metadata": {
        "id": "vmbMY0Z_4yPv"
      },
      "source": [
        "# изменим форму массива\n",
        "x = x.reshape(1, 784)\n",
        "# Инвертируем изображение\n",
        "x = 255-x\n",
        "# Нормализуем изображение\n",
        "x/=255"
      ],
      "execution_count": null,
      "outputs": []
    },
    {
      "cell_type": "code",
      "metadata": {
        "id": "yREHc6cl4jEW",
        "colab": {
          "base_uri": "https://localhost:8080/"
        },
        "outputId": "23c13c17-20f6-4839-ea2b-791602b3137f"
      },
      "source": [
        "# посмотрим на форму массива\n",
        "x.shape"
      ],
      "execution_count": null,
      "outputs": [
        {
          "output_type": "execute_result",
          "data": {
            "text/plain": [
              "(1, 784)"
            ]
          },
          "metadata": {},
          "execution_count": 43
        }
      ]
    },
    {
      "cell_type": "code",
      "metadata": {
        "id": "lGatIBOawknf",
        "colab": {
          "base_uri": "https://localhost:8080/"
        },
        "outputId": "b9c3d7e5-00e1-479f-aa48-14da7e4c45b6"
      },
      "source": [
        "# посмотрим на массив\n",
        "x"
      ],
      "execution_count": null,
      "outputs": [
        {
          "output_type": "execute_result",
          "data": {
            "text/plain": [
              "array([[0.        , 0.        , 0.        , 0.        , 0.        ,\n",
              "        0.        , 0.        , 0.        , 0.        , 0.        ,\n",
              "        0.        , 0.        , 0.        , 0.        , 0.        ,\n",
              "        0.        , 0.        , 0.        , 0.        , 0.        ,\n",
              "        0.        , 0.        , 0.        , 0.        , 0.        ,\n",
              "        0.        , 0.        , 0.        , 0.        , 0.        ,\n",
              "        0.        , 0.        , 0.        , 0.        , 0.        ,\n",
              "        0.        , 0.        , 0.        , 0.        , 0.        ,\n",
              "        0.        , 0.        , 0.        , 0.        , 0.        ,\n",
              "        0.        , 0.        , 0.        , 0.        , 0.        ,\n",
              "        0.        , 0.        , 0.        , 0.        , 0.        ,\n",
              "        0.        , 0.        , 0.        , 0.        , 0.        ,\n",
              "        0.        , 0.        , 0.        , 0.        , 0.        ,\n",
              "        0.        , 0.        , 0.        , 0.        , 0.00784314,\n",
              "        0.00784314, 0.00784314, 0.00784314, 0.00784314, 0.00784314,\n",
              "        0.00784314, 0.00392157, 0.        , 0.        , 0.        ,\n",
              "        0.        , 0.        , 0.        , 0.        , 0.        ,\n",
              "        0.        , 0.        , 0.        , 0.        , 0.        ,\n",
              "        0.        , 0.        , 0.        , 0.        , 0.        ,\n",
              "        0.        , 0.        , 0.45490196, 0.43137255, 0.43529412,\n",
              "        0.28627452, 0.3647059 , 0.3647059 , 0.45882353, 0.30980393,\n",
              "        0.        , 0.        , 0.        , 0.        , 0.        ,\n",
              "        0.        , 0.        , 0.        , 0.        , 0.        ,\n",
              "        0.        , 0.        , 0.        , 0.        , 0.        ,\n",
              "        0.        , 0.        , 0.        , 0.        , 0.34901962,\n",
              "        0.5686275 , 0.4       , 0.42745098, 0.47843137, 0.44313726,\n",
              "        0.40784314, 0.44705883, 0.38039216, 0.        , 0.        ,\n",
              "        0.        , 0.        , 0.        , 0.        , 0.        ,\n",
              "        0.        , 0.        , 0.        , 0.        , 0.        ,\n",
              "        0.        , 0.        , 0.        , 0.        , 0.        ,\n",
              "        0.        , 0.21176471, 0.47058824, 0.35686275, 0.4509804 ,\n",
              "        0.41960785, 0.41568628, 0.48235294, 0.42745098, 0.28627452,\n",
              "        0.37254903, 0.        , 0.        , 0.        , 0.        ,\n",
              "        0.        , 0.        , 0.        , 0.        , 0.        ,\n",
              "        0.        , 0.        , 0.        , 0.        , 0.        ,\n",
              "        0.        , 0.        , 0.        , 0.        , 0.34117648,\n",
              "        0.30588236, 0.3764706 , 0.39215687, 0.6039216 , 0.42745098,\n",
              "        0.5137255 , 0.33333334, 0.41568628, 0.43529412, 0.        ,\n",
              "        0.        , 0.        , 0.        , 0.        , 0.        ,\n",
              "        0.        , 0.        , 0.        , 0.        , 0.        ,\n",
              "        0.        , 0.        , 0.        , 0.        , 0.        ,\n",
              "        0.        , 0.42745098, 0.47058824, 0.39607844, 0.3882353 ,\n",
              "        0.3647059 , 0.27058825, 0.31764707, 0.35686275, 0.3647059 ,\n",
              "        0.5137255 , 0.29803923, 0.        , 0.        , 0.        ,\n",
              "        0.        , 0.        , 0.        , 0.        , 0.        ,\n",
              "        0.        , 0.        , 0.        , 0.        , 0.        ,\n",
              "        0.        , 0.        , 0.        , 0.07058824, 0.36862746,\n",
              "        0.36862746, 0.5254902 , 0.35686275, 0.11764706, 0.37254903,\n",
              "        0.5254902 , 0.37254903, 0.36862746, 0.4117647 , 0.31764707,\n",
              "        0.        , 0.        , 0.        , 0.        , 0.        ,\n",
              "        0.        , 0.        , 0.        , 0.        , 0.        ,\n",
              "        0.        , 0.        , 0.        , 0.        , 0.        ,\n",
              "        0.        , 0.43137255, 0.39215687, 0.30588236, 0.54509807,\n",
              "        0.5176471 , 0.        , 0.43529412, 0.3529412 , 0.29803923,\n",
              "        0.4       , 0.44313726, 0.3647059 , 0.        , 0.        ,\n",
              "        0.        , 0.        , 0.        , 0.        , 0.        ,\n",
              "        0.        , 0.        , 0.        , 0.        , 0.        ,\n",
              "        0.        , 0.        , 0.        , 0.34509805, 0.4745098 ,\n",
              "        0.3372549 , 0.32941177, 0.4392157 , 0.        , 0.        ,\n",
              "        0.34117648, 0.4745098 , 0.4509804 , 0.4       , 0.4862745 ,\n",
              "        0.2784314 , 0.        , 0.        , 0.        , 0.        ,\n",
              "        0.        , 0.        , 0.        , 0.        , 0.        ,\n",
              "        0.        , 0.        , 0.        , 0.        , 0.        ,\n",
              "        0.02352941, 0.44313726, 0.45490196, 0.4862745 , 0.3647059 ,\n",
              "        0.3647059 , 0.        , 0.        , 0.43137255, 0.6431373 ,\n",
              "        0.30588236, 0.3764706 , 0.41960785, 0.3647059 , 0.        ,\n",
              "        0.        , 0.        , 0.        , 0.        , 0.        ,\n",
              "        0.        , 0.        , 0.        , 0.        , 0.        ,\n",
              "        0.        , 0.        , 0.        , 0.4509804 , 0.6117647 ,\n",
              "        0.42352942, 0.4509804 , 0.37254903, 0.        , 0.        ,\n",
              "        0.        , 0.4745098 , 0.36078432, 0.39607844, 0.3882353 ,\n",
              "        0.38431373, 0.32941177, 0.        , 0.        , 0.        ,\n",
              "        0.        , 0.        , 0.        , 0.        , 0.        ,\n",
              "        0.        , 0.        , 0.        , 0.        , 0.        ,\n",
              "        0.4       , 0.45490196, 0.4509804 , 0.4745098 , 0.36078432,\n",
              "        0.        , 0.        , 0.        , 0.        , 0.44705883,\n",
              "        0.4392157 , 0.3529412 , 0.40392157, 0.4117647 , 0.4745098 ,\n",
              "        0.        , 0.        , 0.        , 0.        , 0.        ,\n",
              "        0.        , 0.        , 0.        , 0.        , 0.        ,\n",
              "        0.        , 0.        , 0.00392157, 0.43529412, 0.3882353 ,\n",
              "        0.44313726, 0.40392157, 0.5921569 , 0.        , 0.        ,\n",
              "        0.        , 0.        , 0.40392157, 0.4117647 , 0.5372549 ,\n",
              "        0.3882353 , 0.4       , 0.37254903, 0.        , 0.        ,\n",
              "        0.        , 0.        , 0.        , 0.        , 0.        ,\n",
              "        0.        , 0.        , 0.        , 0.        , 0.        ,\n",
              "        0.40392157, 0.49803922, 0.43529412, 0.4509804 , 0.45882353,\n",
              "        0.        , 0.        , 0.        , 0.        , 0.        ,\n",
              "        0.32156864, 0.4117647 , 0.3137255 , 0.3882353 , 0.3254902 ,\n",
              "        0.36078432, 0.        , 0.        , 0.        , 0.        ,\n",
              "        0.        , 0.        , 0.        , 0.        , 0.        ,\n",
              "        0.        , 0.        , 0.        , 0.81960785, 0.3882353 ,\n",
              "        0.4627451 , 0.34117648, 0.5686275 , 0.44705883, 0.42352942,\n",
              "        0.38039216, 0.47843137, 0.39215687, 0.44705883, 0.5019608 ,\n",
              "        0.53333336, 0.4117647 , 0.41568628, 0.41960785, 0.3137255 ,\n",
              "        0.3372549 , 0.        , 0.        , 0.        , 0.        ,\n",
              "        0.        , 0.        , 0.        , 0.        , 0.        ,\n",
              "        0.        , 0.4392157 , 0.38431373, 0.44313726, 0.2509804 ,\n",
              "        0.35686275, 0.4509804 , 0.44313726, 0.5019608 , 0.34117648,\n",
              "        0.37254903, 0.4627451 , 0.39607844, 0.45882353, 0.43137255,\n",
              "        0.43529412, 0.3882353 , 0.37254903, 0.38431373, 0.        ,\n",
              "        0.        , 0.        , 0.        , 0.        , 0.        ,\n",
              "        0.        , 0.        , 0.        , 0.        , 0.3372549 ,\n",
              "        0.43529412, 0.4117647 , 0.39215687, 0.41960785, 0.39215687,\n",
              "        0.44313726, 0.4117647 , 0.3882353 , 0.40784314, 0.42352942,\n",
              "        0.4627451 , 0.30588236, 0.39607844, 0.38431373, 0.49019608,\n",
              "        0.45490196, 0.36078432, 0.        , 0.        , 0.        ,\n",
              "        0.        , 0.        , 0.        , 0.        , 0.        ,\n",
              "        0.        , 0.        , 0.36862746, 0.5137255 , 0.35686275,\n",
              "        0.3764706 , 0.38039216, 0.4627451 , 0.3647059 , 0.48235294,\n",
              "        0.49411765, 0.53333336, 0.40392157, 0.4392157 , 0.3764706 ,\n",
              "        0.40784314, 0.3529412 , 0.4       , 0.40784314, 0.3647059 ,\n",
              "        0.        , 0.        , 0.        , 0.        , 0.        ,\n",
              "        0.        , 0.        , 0.        , 0.        , 0.        ,\n",
              "        0.02352941, 0.02352941, 0.02352941, 0.02352941, 0.02352941,\n",
              "        0.02352941, 0.02352941, 0.02352941, 0.02352941, 0.02352941,\n",
              "        0.4627451 , 0.3019608 , 0.32941177, 0.39607844, 0.40392157,\n",
              "        0.33333334, 0.02352941, 0.02352941, 0.        , 0.        ,\n",
              "        0.        , 0.        , 0.        , 0.        , 0.        ,\n",
              "        0.        , 0.        , 0.        , 0.        , 0.        ,\n",
              "        0.        , 0.        , 0.        , 0.        , 0.        ,\n",
              "        0.        , 0.        , 0.        , 0.36078432, 0.4       ,\n",
              "        0.44313726, 0.49411765, 0.45490196, 0.43529412, 0.        ,\n",
              "        0.        , 0.        , 0.        , 0.        , 0.        ,\n",
              "        0.        , 0.        , 0.        , 0.        , 0.        ,\n",
              "        0.        , 0.        , 0.        , 0.        , 0.        ,\n",
              "        0.        , 0.        , 0.        , 0.        , 0.        ,\n",
              "        0.        , 0.5019608 , 0.4       , 0.5411765 , 0.38431373,\n",
              "        0.44313726, 0.4117647 , 0.        , 0.        , 0.        ,\n",
              "        0.        , 0.        , 0.        , 0.        , 0.        ,\n",
              "        0.        , 0.        , 0.        , 0.        , 0.        ,\n",
              "        0.        , 0.        , 0.        , 0.        , 0.        ,\n",
              "        0.        , 0.        , 0.        , 0.        , 0.36862746,\n",
              "        0.3019608 , 0.38431373, 0.4       , 0.37254903, 0.3647059 ,\n",
              "        0.        , 0.        , 0.        , 0.        , 0.        ,\n",
              "        0.        , 0.        , 0.        , 0.        , 0.        ,\n",
              "        0.        , 0.        , 0.        , 0.        , 0.        ,\n",
              "        0.        , 0.        , 0.        , 0.        , 0.        ,\n",
              "        0.        , 0.        , 0.3764706 , 0.4509804 , 0.40392157,\n",
              "        0.3529412 , 0.4627451 , 0.28627452, 0.        , 0.        ,\n",
              "        0.        , 0.        , 0.        , 0.        , 0.        ,\n",
              "        0.        , 0.        , 0.        , 0.        , 0.        ,\n",
              "        0.        , 0.        , 0.        , 0.        , 0.        ,\n",
              "        0.        , 0.        , 0.        , 0.        , 0.        ,\n",
              "        0.18039216, 0.18039216, 0.18039216, 0.18039216, 0.18039216,\n",
              "        0.13725491, 0.        , 0.        , 0.        , 0.        ,\n",
              "        0.        , 0.        , 0.        , 0.        , 0.        ,\n",
              "        0.        , 0.        , 0.        , 0.        , 0.        ,\n",
              "        0.        , 0.        , 0.        , 0.        , 0.        ,\n",
              "        0.        , 0.        , 0.        , 0.        , 0.        ,\n",
              "        0.        , 0.        , 0.        , 0.        , 0.        ,\n",
              "        0.        , 0.        , 0.        , 0.        , 0.        ,\n",
              "        0.        , 0.        , 0.        , 0.        , 0.        ,\n",
              "        0.        , 0.        , 0.        , 0.        , 0.        ,\n",
              "        0.        , 0.        , 0.        , 0.        , 0.        ,\n",
              "        0.        , 0.        , 0.        , 0.        , 0.        ,\n",
              "        0.        , 0.        , 0.        , 0.        , 0.        ,\n",
              "        0.        , 0.        , 0.        , 0.        ]], dtype=float32)"
            ]
          },
          "metadata": {},
          "execution_count": 44
        }
      ]
    },
    {
      "cell_type": "markdown",
      "metadata": {
        "id": "xboEYKaJvClX"
      },
      "source": [
        "####Обратные действия - из массива в изображение"
      ]
    },
    {
      "cell_type": "code",
      "metadata": {
        "colab": {
          "base_uri": "https://localhost:8080/"
        },
        "id": "mgObmb-JvOjg",
        "outputId": "24f2fe2f-fb49-4e82-eb03-3ae38954705f"
      },
      "source": [
        "x.shape"
      ],
      "execution_count": null,
      "outputs": [
        {
          "output_type": "execute_result",
          "data": {
            "text/plain": [
              "(1, 784)"
            ]
          },
          "metadata": {},
          "execution_count": 45
        }
      ]
    },
    {
      "cell_type": "code",
      "metadata": {
        "id": "MBkS2vYEvcjV"
      },
      "source": [
        "# изменим форму массива\n",
        "x_img = x.reshape(28, 28)"
      ],
      "execution_count": null,
      "outputs": []
    },
    {
      "cell_type": "code",
      "metadata": {
        "colab": {
          "base_uri": "https://localhost:8080/"
        },
        "id": "f61z2LPLvoiE",
        "outputId": "647fb5f0-92ca-400e-a1b1-ad0571a93a27"
      },
      "source": [
        "x_img.shape"
      ],
      "execution_count": null,
      "outputs": [
        {
          "output_type": "execute_result",
          "data": {
            "text/plain": [
              "(28, 28)"
            ]
          },
          "metadata": {},
          "execution_count": 47
        }
      ]
    },
    {
      "cell_type": "code",
      "metadata": {
        "id": "MoQjKda3v8fu"
      },
      "source": [
        "# уберем нормализацию нормализацию изображения\n",
        "x_img *= 255"
      ],
      "execution_count": null,
      "outputs": []
    },
    {
      "cell_type": "code",
      "metadata": {
        "colab": {
          "base_uri": "https://localhost:8080/"
        },
        "id": "9mwkakqwwQKM",
        "outputId": "e5619a69-ec13-49cb-e481-0f41e02104a0"
      },
      "source": [
        "# посмотрим на преобразованный массив\n",
        "x_img"
      ],
      "execution_count": null,
      "outputs": [
        {
          "output_type": "execute_result",
          "data": {
            "text/plain": [
              "array([[  0.,   0.,   0.,   0.,   0.,   0.,   0.,   0.,   0.,   0.,   0.,\n",
              "          0.,   0.,   0.,   0.,   0.,   0.,   0.,   0.,   0.,   0.,   0.,\n",
              "          0.,   0.,   0.,   0.,   0.,   0.],\n",
              "       [  0.,   0.,   0.,   0.,   0.,   0.,   0.,   0.,   0.,   0.,   0.,\n",
              "          0.,   0.,   0.,   0.,   0.,   0.,   0.,   0.,   0.,   0.,   0.,\n",
              "          0.,   0.,   0.,   0.,   0.,   0.],\n",
              "       [  0.,   0.,   0.,   0.,   0.,   0.,   0.,   0.,   0.,   0.,   0.,\n",
              "          0.,   0.,   2.,   2.,   2.,   2.,   2.,   2.,   2.,   1.,   0.,\n",
              "          0.,   0.,   0.,   0.,   0.,   0.],\n",
              "       [  0.,   0.,   0.,   0.,   0.,   0.,   0.,   0.,   0.,   0.,   0.,\n",
              "          0.,   0., 116., 110., 111.,  73.,  93.,  93., 117.,  79.,   0.,\n",
              "          0.,   0.,   0.,   0.,   0.,   0.],\n",
              "       [  0.,   0.,   0.,   0.,   0.,   0.,   0.,   0.,   0.,   0.,   0.,\n",
              "          0.,  89., 145., 102., 109., 122., 113., 104., 114.,  97.,   0.,\n",
              "          0.,   0.,   0.,   0.,   0.,   0.],\n",
              "       [  0.,   0.,   0.,   0.,   0.,   0.,   0.,   0.,   0.,   0.,   0.,\n",
              "         54., 120.,  91., 115., 107., 106., 123., 109.,  73.,  95.,   0.,\n",
              "          0.,   0.,   0.,   0.,   0.,   0.],\n",
              "       [  0.,   0.,   0.,   0.,   0.,   0.,   0.,   0.,   0.,   0.,   0.,\n",
              "         87.,  78.,  96., 100., 154., 109., 131.,  85., 106., 111.,   0.,\n",
              "          0.,   0.,   0.,   0.,   0.,   0.],\n",
              "       [  0.,   0.,   0.,   0.,   0.,   0.,   0.,   0.,   0.,   0., 109.,\n",
              "        120., 101.,  99.,  93.,  69.,  81.,  91.,  93., 131.,  76.,   0.,\n",
              "          0.,   0.,   0.,   0.,   0.,   0.],\n",
              "       [  0.,   0.,   0.,   0.,   0.,   0.,   0.,   0.,   0.,  18.,  94.,\n",
              "         94., 134.,  91.,  30.,  95., 134.,  95.,  94., 105.,  81.,   0.,\n",
              "          0.,   0.,   0.,   0.,   0.,   0.],\n",
              "       [  0.,   0.,   0.,   0.,   0.,   0.,   0.,   0.,   0., 110., 100.,\n",
              "         78., 139., 132.,   0., 111.,  90.,  76., 102., 113.,  93.,   0.,\n",
              "          0.,   0.,   0.,   0.,   0.,   0.],\n",
              "       [  0.,   0.,   0.,   0.,   0.,   0.,   0.,   0.,  88., 121.,  86.,\n",
              "         84., 112.,   0.,   0.,  87., 121., 115., 102., 124.,  71.,   0.,\n",
              "          0.,   0.,   0.,   0.,   0.,   0.],\n",
              "       [  0.,   0.,   0.,   0.,   0.,   0.,   0.,   6., 113., 116., 124.,\n",
              "         93.,  93.,   0.,   0., 110., 164.,  78.,  96., 107.,  93.,   0.,\n",
              "          0.,   0.,   0.,   0.,   0.,   0.],\n",
              "       [  0.,   0.,   0.,   0.,   0.,   0.,   0., 115., 156., 108., 115.,\n",
              "         95.,   0.,   0.,   0., 121.,  92., 101.,  99.,  98.,  84.,   0.,\n",
              "          0.,   0.,   0.,   0.,   0.,   0.],\n",
              "       [  0.,   0.,   0.,   0.,   0.,   0., 102., 116., 115., 121.,  92.,\n",
              "          0.,   0.,   0.,   0., 114., 112.,  90., 103., 105., 121.,   0.,\n",
              "          0.,   0.,   0.,   0.,   0.,   0.],\n",
              "       [  0.,   0.,   0.,   0.,   0.,   1., 111.,  99., 113., 103., 151.,\n",
              "          0.,   0.,   0.,   0., 103., 105., 137.,  99., 102.,  95.,   0.,\n",
              "          0.,   0.,   0.,   0.,   0.,   0.],\n",
              "       [  0.,   0.,   0.,   0.,   0., 103., 127., 111., 115., 117.,   0.,\n",
              "          0.,   0.,   0.,   0.,  82., 105.,  80.,  99.,  83.,  92.,   0.,\n",
              "          0.,   0.,   0.,   0.,   0.,   0.],\n",
              "       [  0.,   0.,   0.,   0.,   0., 209.,  99., 118.,  87., 145., 114.,\n",
              "        108.,  97., 122., 100., 114., 128., 136., 105., 106., 107.,  80.,\n",
              "         86.,   0.,   0.,   0.,   0.,   0.],\n",
              "       [  0.,   0.,   0.,   0.,   0., 112.,  98., 113.,  64.,  91., 115.,\n",
              "        113., 128.,  87.,  95., 118., 101., 117., 110., 111.,  99.,  95.,\n",
              "         98.,   0.,   0.,   0.,   0.,   0.],\n",
              "       [  0.,   0.,   0.,   0.,   0.,  86., 111., 105., 100., 107., 100.,\n",
              "        113., 105.,  99., 104., 108., 118.,  78., 101.,  98., 125., 116.,\n",
              "         92.,   0.,   0.,   0.,   0.,   0.],\n",
              "       [  0.,   0.,   0.,   0.,   0.,  94., 131.,  91.,  96.,  97., 118.,\n",
              "         93., 123., 126., 136., 103., 112.,  96., 104.,  90., 102., 104.,\n",
              "         93.,   0.,   0.,   0.,   0.,   0.],\n",
              "       [  0.,   0.,   0.,   0.,   0.,   6.,   6.,   6.,   6.,   6.,   6.,\n",
              "          6.,   6.,   6.,   6., 118.,  77.,  84., 101., 103.,  85.,   6.,\n",
              "          6.,   0.,   0.,   0.,   0.,   0.],\n",
              "       [  0.,   0.,   0.,   0.,   0.,   0.,   0.,   0.,   0.,   0.,   0.,\n",
              "          0.,   0.,   0.,   0.,  92., 102., 113., 126., 116., 111.,   0.,\n",
              "          0.,   0.,   0.,   0.,   0.,   0.],\n",
              "       [  0.,   0.,   0.,   0.,   0.,   0.,   0.,   0.,   0.,   0.,   0.,\n",
              "          0.,   0.,   0.,   0., 128., 102., 138.,  98., 113., 105.,   0.,\n",
              "          0.,   0.,   0.,   0.,   0.,   0.],\n",
              "       [  0.,   0.,   0.,   0.,   0.,   0.,   0.,   0.,   0.,   0.,   0.,\n",
              "          0.,   0.,   0.,   0.,  94.,  77.,  98., 102.,  95.,  93.,   0.,\n",
              "          0.,   0.,   0.,   0.,   0.,   0.],\n",
              "       [  0.,   0.,   0.,   0.,   0.,   0.,   0.,   0.,   0.,   0.,   0.,\n",
              "          0.,   0.,   0.,   0.,  96., 115., 103.,  90., 118.,  73.,   0.,\n",
              "          0.,   0.,   0.,   0.,   0.,   0.],\n",
              "       [  0.,   0.,   0.,   0.,   0.,   0.,   0.,   0.,   0.,   0.,   0.,\n",
              "          0.,   0.,   0.,   0.,  46.,  46.,  46.,  46.,  46.,  35.,   0.,\n",
              "          0.,   0.,   0.,   0.,   0.,   0.],\n",
              "       [  0.,   0.,   0.,   0.,   0.,   0.,   0.,   0.,   0.,   0.,   0.,\n",
              "          0.,   0.,   0.,   0.,   0.,   0.,   0.,   0.,   0.,   0.,   0.,\n",
              "          0.,   0.,   0.,   0.,   0.,   0.],\n",
              "       [  0.,   0.,   0.,   0.,   0.,   0.,   0.,   0.,   0.,   0.,   0.,\n",
              "          0.,   0.,   0.,   0.,   0.,   0.,   0.,   0.,   0.,   0.,   0.,\n",
              "          0.,   0.,   0.,   0.,   0.,   0.]], dtype=float32)"
            ]
          },
          "metadata": {},
          "execution_count": 49
        }
      ]
    },
    {
      "cell_type": "code",
      "metadata": {
        "colab": {
          "base_uri": "https://localhost:8080/",
          "height": 430
        },
        "id": "6v3H77jTwZ32",
        "outputId": "5d154ddf-a3dd-413e-84e0-796365367af0"
      },
      "source": [
        "# выполним конвертацию из массива в изображение, сохранив инвертирование\n",
        "plt.imshow(Image.fromarray(x_img).convert('RGBA'))\n",
        "plt.show()"
      ],
      "execution_count": null,
      "outputs": [
        {
          "output_type": "display_data",
          "data": {
            "text/plain": [
              "<Figure size 640x480 with 1 Axes>"
            ],
            "image/png": "[encoded data removed]"
          },
          "metadata": {}
        }
      ]
    },
    {
      "cell_type": "markdown",
      "metadata": {
        "id": "ZHjXCgun-fZT"
      },
      "source": [
        "####Повторим предыдущие действия для изображения другого формата"
      ]
    },
    {
      "cell_type": "code",
      "metadata": {
        "id": "h-OGN0BdxBjL"
      },
      "source": [
        "img_1 = image.load_img(img_path, target_size=(8, 8), color_mode = \"grayscale\")"
      ],
      "execution_count": null,
      "outputs": []
    },
    {
      "cell_type": "code",
      "metadata": {
        "id": "LeN5XfZo_Ekh",
        "colab": {
          "base_uri": "https://localhost:8080/"
        },
        "outputId": "efb36a96-d6a8-45b1-ab51-416b15f90c09"
      },
      "source": [
        "img_1.size"
      ],
      "execution_count": null,
      "outputs": [
        {
          "output_type": "execute_result",
          "data": {
            "text/plain": [
              "(8, 8)"
            ]
          },
          "metadata": {},
          "execution_count": 52
        }
      ]
    },
    {
      "cell_type": "code",
      "metadata": {
        "id": "JWhGcVtIxX8d"
      },
      "source": [
        "#Преобразуем картинку в массив\n",
        "x_1=image.img_to_array(img_1)"
      ],
      "execution_count": null,
      "outputs": []
    },
    {
      "cell_type": "code",
      "metadata": {
        "id": "Th7Jm6dC_OSc",
        "colab": {
          "base_uri": "https://localhost:8080/"
        },
        "outputId": "32f23999-f655-4b82-93d2-fd97c9dbdd9e"
      },
      "source": [
        "x_1.shape"
      ],
      "execution_count": null,
      "outputs": [
        {
          "output_type": "execute_result",
          "data": {
            "text/plain": [
              "(8, 8, 1)"
            ]
          },
          "metadata": {},
          "execution_count": 54
        }
      ]
    },
    {
      "cell_type": "code",
      "metadata": {
        "id": "si92b5sWxlAq",
        "colab": {
          "base_uri": "https://localhost:8080/"
        },
        "outputId": "70dbef0b-9452-4e4c-d6a2-827010174cb5"
      },
      "source": [
        "x_1"
      ],
      "execution_count": null,
      "outputs": [
        {
          "output_type": "execute_result",
          "data": {
            "text/plain": [
              "array([[[255.],\n",
              "        [255.],\n",
              "        [255.],\n",
              "        [255.],\n",
              "        [255.],\n",
              "        [255.],\n",
              "        [255.],\n",
              "        [255.]],\n",
              "\n",
              "       [[255.],\n",
              "        [255.],\n",
              "        [255.],\n",
              "        [141.],\n",
              "        [159.],\n",
              "        [138.],\n",
              "        [255.],\n",
              "        [255.]],\n",
              "\n",
              "       [[255.],\n",
              "        [255.],\n",
              "        [255.],\n",
              "        [170.],\n",
              "        [148.],\n",
              "        [170.],\n",
              "        [255.],\n",
              "        [255.]],\n",
              "\n",
              "       [[255.],\n",
              "        [255.],\n",
              "        [155.],\n",
              "        [253.],\n",
              "        [181.],\n",
              "        [144.],\n",
              "        [255.],\n",
              "        [255.]],\n",
              "\n",
              "       [[255.],\n",
              "        [143.],\n",
              "        [135.],\n",
              "        [148.],\n",
              "        [161.],\n",
              "        [149.],\n",
              "        [175.],\n",
              "        [255.]],\n",
              "\n",
              "       [[255.],\n",
              "        [130.],\n",
              "        [145.],\n",
              "        [147.],\n",
              "        [151.],\n",
              "        [143.],\n",
              "        [163.],\n",
              "        [255.]],\n",
              "\n",
              "       [[255.],\n",
              "        [255.],\n",
              "        [255.],\n",
              "        [255.],\n",
              "        [171.],\n",
              "        [141.],\n",
              "        [255.],\n",
              "        [255.]],\n",
              "\n",
              "       [[255.],\n",
              "        [255.],\n",
              "        [255.],\n",
              "        [255.],\n",
              "        [255.],\n",
              "        [255.],\n",
              "        [255.],\n",
              "        [255.]]], dtype=float32)"
            ]
          },
          "metadata": {},
          "execution_count": 55
        }
      ]
    },
    {
      "cell_type": "code",
      "metadata": {
        "id": "rOjBF3eZxhD7"
      },
      "source": [
        "# изменим форму массива в плоский вектор\n",
        "x_1=x_1.reshape(1, 64)"
      ],
      "execution_count": null,
      "outputs": []
    },
    {
      "cell_type": "code",
      "metadata": {
        "id": "9AYHuBfbxxgp",
        "colab": {
          "base_uri": "https://localhost:8080/"
        },
        "outputId": "5659a1f4-824c-48bd-9a07-9118052441e7"
      },
      "source": [
        "x_1"
      ],
      "execution_count": null,
      "outputs": [
        {
          "output_type": "execute_result",
          "data": {
            "text/plain": [
              "array([[255., 255., 255., 255., 255., 255., 255., 255., 255., 255., 255.,\n",
              "        141., 159., 138., 255., 255., 255., 255., 255., 170., 148., 170.,\n",
              "        255., 255., 255., 255., 155., 253., 181., 144., 255., 255., 255.,\n",
              "        143., 135., 148., 161., 149., 175., 255., 255., 130., 145., 147.,\n",
              "        151., 143., 163., 255., 255., 255., 255., 255., 171., 141., 255.,\n",
              "        255., 255., 255., 255., 255., 255., 255., 255., 255.]],\n",
              "      dtype=float32)"
            ]
          },
          "metadata": {},
          "execution_count": 57
        }
      ]
    },
    {
      "cell_type": "code",
      "metadata": {
        "id": "sXMz5qzFxsif"
      },
      "source": [
        "# Инвертируем изображение\n",
        "x_1=255-x_1\n",
        "# Нормализуем изображение\n",
        "x_1/=255"
      ],
      "execution_count": null,
      "outputs": []
    },
    {
      "cell_type": "code",
      "metadata": {
        "id": "RtE0Y-SNyDjN",
        "colab": {
          "base_uri": "https://localhost:8080/"
        },
        "outputId": "6b5c9ce6-a8d2-4302-d4ef-ebb9f296cd73"
      },
      "source": [
        "x_1"
      ],
      "execution_count": null,
      "outputs": [
        {
          "output_type": "execute_result",
          "data": {
            "text/plain": [
              "array([[0.        , 0.        , 0.        , 0.        , 0.        ,\n",
              "        0.        , 0.        , 0.        , 0.        , 0.        ,\n",
              "        0.        , 0.44705883, 0.3764706 , 0.45882353, 0.        ,\n",
              "        0.        , 0.        , 0.        , 0.        , 0.33333334,\n",
              "        0.41960785, 0.33333334, 0.        , 0.        , 0.        ,\n",
              "        0.        , 0.39215687, 0.00784314, 0.2901961 , 0.43529412,\n",
              "        0.        , 0.        , 0.        , 0.4392157 , 0.47058824,\n",
              "        0.41960785, 0.36862746, 0.41568628, 0.3137255 , 0.        ,\n",
              "        0.        , 0.49019608, 0.43137255, 0.42352942, 0.40784314,\n",
              "        0.4392157 , 0.36078432, 0.        , 0.        , 0.        ,\n",
              "        0.        , 0.        , 0.32941177, 0.44705883, 0.        ,\n",
              "        0.        , 0.        , 0.        , 0.        , 0.        ,\n",
              "        0.        , 0.        , 0.        , 0.        ]], dtype=float32)"
            ]
          },
          "metadata": {},
          "execution_count": 59
        }
      ]
    },
    {
      "cell_type": "markdown",
      "metadata": {
        "id": "RvHKQym6F4zV"
      },
      "source": [
        "####Задание\n",
        "\n",
        "1. Изучите блокнот, повторите его для тестового набора данных, дополните своими комментариями.\n",
        "2. Загрузите свое изображение, выполните все указанные преобразования для подготовки данных для нейронной сети.\n",
        "3. Изучите какие датасеты доступны в библиотеке Keras https://keras.io/datasets/#mnist-database-of-handwritten-digits.\n"
      ]
    }
  ]
}